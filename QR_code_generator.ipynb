{
  "nbformat": 4,
  "nbformat_minor": 0,
  "metadata": {
    "colab": {
      "provenance": [],
      "authorship_tag": "ABX9TyOZDqhuRYR6dVlMPca03EXL",
      "include_colab_link": true
    },
    "kernelspec": {
      "name": "python3",
      "display_name": "Python 3"
    },
    "language_info": {
      "name": "python"
    }
  },
  "cells": [
    {
      "cell_type": "markdown",
      "metadata": {
        "id": "view-in-github",
        "colab_type": "text"
      },
      "source": [
        "<a href=\"https://colab.research.google.com/github/pratiksha2811/QR-Code-Generator/blob/master/QR_code_generator.ipynb\" target=\"_parent\"><img src=\"https://colab.research.google.com/assets/colab-badge.svg\" alt=\"Open In Colab\"/></a>"
      ]
    },
    {
      "cell_type": "code",
      "execution_count": null,
      "metadata": {
        "colab": {
          "base_uri": "https://localhost:8080/"
        },
        "id": "pchdUL-shi9L",
        "outputId": "f117cf21-12b0-4a2a-c675-1d40ea56dcbb"
      },
      "outputs": [
        {
          "output_type": "stream",
          "name": "stdout",
          "text": [
            "Looking in indexes: https://pypi.org/simple, https://us-python.pkg.dev/colab-wheels/public/simple/\n",
            "Collecting myqr\n",
            "  Downloading MyQR-2.3.1.zip (16 kB)\n",
            "Requirement already satisfied: imageio>=1.5 in /usr/local/lib/python3.7/dist-packages (from myqr) (2.9.0)\n",
            "Requirement already satisfied: numpy>=1.11.1 in /usr/local/lib/python3.7/dist-packages (from myqr) (1.21.6)\n",
            "Requirement already satisfied: Pillow>=3.3.1 in /usr/local/lib/python3.7/dist-packages (from myqr) (7.1.2)\n",
            "Building wheels for collected packages: myqr\n",
            "  Building wheel for myqr (setup.py) ... \u001b[?25l\u001b[?25hdone\n",
            "  Created wheel for myqr: filename=MyQR-2.3.1-py3-none-any.whl size=16706 sha256=13e399db1f58a55ce63d391be6bba4af449485b61876785193424032f141d4c9\n",
            "  Stored in directory: /root/.cache/pip/wheels/28/27/d8/dffd5b6e4d022c5b6a9866c96a6b80292b63bd121a1f92cbb3\n",
            "Successfully built myqr\n",
            "Installing collected packages: myqr\n",
            "Successfully installed myqr-2.3.1\n"
          ]
        }
      ],
      "source": [
        "pip install myqr"
      ]
    },
    {
      "cell_type": "code",
      "source": [
        "pip show MyQR"
      ],
      "metadata": {
        "colab": {
          "base_uri": "https://localhost:8080/"
        },
        "id": "UhXvHzwQhmea",
        "outputId": "a5497e25-3f52-415c-ff5a-a5c32b4b4d92"
      },
      "execution_count": null,
      "outputs": [
        {
          "output_type": "stream",
          "name": "stdout",
          "text": [
            "Name: MyQR\n",
            "Version: 2.3.1\n",
            "Summary: Generater for amazing QR Codes. Including Common, Artistic and Animated QR Codes.\n",
            "Home-page: https://github.com/sylnsfar/qrcode\n",
            "Author: sylnsfar\n",
            "Author-email: sylnsfar@gmail.com\n",
            "License: GPLv3\n",
            "Location: /usr/local/lib/python3.7/dist-packages\n",
            "Requires: Pillow, imageio, numpy\n",
            "Required-by: \n"
          ]
        }
      ]
    },
    {
      "cell_type": "code",
      "source": [
        "from MyQR import myqr"
      ],
      "metadata": {
        "id": "Yyg8iUfnhvTI"
      },
      "execution_count": null,
      "outputs": []
    },
    {
      "cell_type": "code",
      "source": [
        "myqr.run('https://gdsc.community.dev/modern-education-societys-college-of-engineering-pune' ,save_name='gdsc1.png')"
      ],
      "metadata": {
        "colab": {
          "base_uri": "https://localhost:8080/"
        },
        "id": "UN-D87sAhx4A",
        "outputId": "7e101f13-b76e-4bf2-c426-c5f3efbab4b9"
      },
      "execution_count": null,
      "outputs": [
        {
          "output_type": "stream",
          "name": "stdout",
          "text": [
            "line 16: mode: byte\n"
          ]
        },
        {
          "output_type": "execute_result",
          "data": {
            "text/plain": [
              "(8, 'H', '/content/gdsc1.png')"
            ]
          },
          "metadata": {},
          "execution_count": 4
        }
      ]
    },
    {
      "cell_type": "code",
      "source": [
        "myqr.run(words='https://gdsc.community.dev/modern-education-societys-college-of-engineering-pune', picture='gdsc.jpg',\n",
        "         colorized=True, save_name='qrchannelcustomized.png')"
      ],
      "metadata": {
        "colab": {
          "base_uri": "https://localhost:8080/"
        },
        "id": "qcPci7fLh_X-",
        "outputId": "ba764b2a-25e3-421a-d3e8-3e284b7e7afd"
      },
      "execution_count": null,
      "outputs": [
        {
          "output_type": "stream",
          "name": "stdout",
          "text": [
            "line 16: mode: byte\n"
          ]
        },
        {
          "output_type": "execute_result",
          "data": {
            "text/plain": [
              "(8, 'H', '/content/qrchannelcustomized.png')"
            ]
          },
          "metadata": {},
          "execution_count": 5
        }
      ]
    },
    {
      "cell_type": "code",
      "source": [],
      "metadata": {
        "id": "r-t9NI0Pi1Rc"
      },
      "execution_count": null,
      "outputs": []
    }
  ]
}